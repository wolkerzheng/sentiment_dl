{
 "cells": [
  {
   "cell_type": "code",
   "execution_count": 15,
   "metadata": {
    "collapsed": true
   },
   "outputs": [],
   "source": [
    "from __future__ import print_function\n",
    "import sys\n",
    "\n",
    "import torch\n",
    "import torch.nn as nn\n",
    "import torch.autograd as autograd\n",
    "import torch.nn.functional as F\n",
    "import torch.optim as optim"
   ]
  },
  {
   "cell_type": "markdown",
   "metadata": {
    "collapsed": true
   },
   "source": [
    "## Corpus Processing"
   ]
  },
  {
   "cell_type": "code",
   "execution_count": 16,
   "metadata": {
    "collapsed": true
   },
   "outputs": [],
   "source": [
    "def read_dataset(filename='./penn.train.pos'):\n",
    "    fp = open(filename, 'r')\n",
    "    dataset = []\n",
    "    for line in fp:\n",
    "        tokens = line.strip().split()\n",
    "        dataset.append(([t.rsplit('/', 1)[0] for t in tokens], [t.rsplit('/', 1)[1] for t in tokens]))\n",
    "    return dataset\n",
    "\n",
    "training_data = read_dataset(\"train.pos\")[:200]\n",
    "devel_data = read_dataset(\"test.pos\")[:100]\n",
    "\n",
    "CONTEXT_SIZE = 3 # an odd number\n",
    "def gen_instances(corpus):\n",
    "    instances = []\n",
    "    for sent, tags in corpus:\n",
    "        n_pad = (CONTEXT_SIZE - 1) / 2\n",
    "        padded_sent = ['<S>'] * n_pad + sent + ['</S>'] * n_pad\n",
    "        for i in xrange(len(sent)):\n",
    "            instances.append((padded_sent[i:i+CONTEXT_SIZE], tags[i]))\n",
    "    return instances\n",
    "\n",
    "training_instances = gen_instances(training_data)\n",
    "devel_instances = gen_instances(devel_data)\n",
    "\n",
    "word_to_ix = {'UNK':0, '<S>':1, '</S>':2}\n",
    "tag_to_ix = {'UNK':0}\n",
    "for sent, tags in training_data:\n",
    "    for word, tag in zip(sent, tags):\n",
    "        if word not in word_to_ix:\n",
    "            word_to_ix[word] = len(word_to_ix)\n",
    "        if tag not in tag_to_ix:\n",
    "            tag_to_ix[tag] = len(tag_to_ix)\n",
    "\n",
    "def prepare_sequence(seq, to_ix):\n",
    "    idxs = map(lambda w: to_ix[w] if w in to_ix else to_ix['UNK'], seq)\n",
    "    tensor = torch.LongTensor(idxs)\n",
    "    return autograd.Variable(tensor)"
   ]
  },
  {
   "cell_type": "markdown",
   "metadata": {},
   "source": [
    "## MLP Tagger\n",
    "\n",
    "<img src=\"images/mlp.png\" style=\"width: 500px;\"/>"
   ]
  },
  {
   "cell_type": "code",
   "execution_count": 17,
   "metadata": {
    "collapsed": true
   },
   "outputs": [],
   "source": [
    "class MLPTagger(nn.Module):\n",
    "\n",
    "    def __init__(self, embedding_dim, hidden_dim, vocab_size, context_size, tagset_size):\n",
    "        super(MLPTagger, self).__init__()\n",
    "\n",
    "        # The word embedding layer map words (IDs) to their embedding vectors\n",
    "        self.word_embeddings = nn.Embedding(vocab_size, embedding_dim)\n",
    "        \n",
    "        # The linear layer map input vectors to hidden layer\n",
    "        # Input: context_size * embedding_dim\n",
    "        self.input2hidden = nn.Linear(context_size * embedding_dim, hidden_dim)\n",
    "        \n",
    "        # The linear layer map hidden layer to tag space\n",
    "        self.hidden2tag = nn.Linear(hidden_dim, tagset_size)\n",
    "\n",
    "    def forward(self, context):\n",
    "        embeds = self.word_embeddings(context).view(1, -1) # (N, in\\_features)\n",
    "        hidden = F.tanh(self.input2hidden(embeds))\n",
    "        \n",
    "        # Softmax layer: map RNN hidden states to the tag space\n",
    "        tag_space = self.hidden2tag(hidden)\n",
    "        log_probs = F.log_softmax(tag_space)\n",
    "        return log_probs"
   ]
  },
  {
   "cell_type": "markdown",
   "metadata": {},
   "source": [
    "## Training and Testing"
   ]
  },
  {
   "cell_type": "code",
   "execution_count": 18,
   "metadata": {},
   "outputs": [
    {
     "name": "stdout",
     "output_type": "stream",
     "text": [
      "Epoch 0: loss = 14141.99, Testing accuracy = 35.69%\n",
      "Epoch 1: loss = 10994.79, Testing accuracy = 39.61%\n",
      "Epoch 2: loss = 9976.27, Testing accuracy = 43.00%\n",
      "Epoch 3: loss = 9350.19, Testing accuracy = 45.37%\n",
      "Epoch 4: loss = 8864.57, Testing accuracy = 47.28%\n",
      "Epoch 5: loss = 8462.36, Testing accuracy = 48.43%\n",
      "Epoch 6: loss = 8131.51, Testing accuracy = 49.29%\n",
      "Epoch 7: loss = 7852.69, Testing accuracy = 49.98%\n",
      "Epoch 8: loss = 7608.44, Testing accuracy = 50.67%\n",
      "Epoch 9: loss = 7387.95, Testing accuracy = 51.45%\n",
      "Epoch 10: loss = 7184.34, Testing accuracy = 51.98%\n",
      "Epoch 11: loss = 6993.12, Testing accuracy = 51.98%\n",
      "Epoch 12: loss = 6813.90, Testing accuracy = 52.23%\n",
      "Epoch 13: loss = 6645.93, Testing accuracy = 52.47%\n",
      "Epoch 14: loss = 6486.15, Testing accuracy = 53.04%\n",
      "Epoch 15: loss = 6332.50, Testing accuracy = 53.49%\n",
      "Epoch 16: loss = 6186.03, Testing accuracy = 54.10%\n",
      "Epoch 17: loss = 6047.36, Testing accuracy = 54.10%\n",
      "Epoch 18: loss = 5915.98, Testing accuracy = 54.39%\n",
      "Epoch 19: loss = 5791.63, Testing accuracy = 54.72%\n",
      "Epoch 20: loss = 5674.14, Testing accuracy = 55.17%\n",
      "Epoch 21: loss = 5561.31, Testing accuracy = 55.37%\n",
      "Epoch 22: loss = 5451.35, Testing accuracy = 55.74%\n",
      "Epoch 23: loss = 5344.67, Testing accuracy = 56.06%\n",
      "Epoch 24: loss = 5240.67, Testing accuracy = 56.15%\n",
      "Epoch 25: loss = 5137.26, Testing accuracy = 56.39%\n",
      "Epoch 26: loss = 5038.16, Testing accuracy = 56.15%\n",
      "Epoch 27: loss = 4944.02, Testing accuracy = 56.27%\n",
      "Epoch 28: loss = 4852.47, Testing accuracy = 56.47%\n",
      "Epoch 29: loss = 4762.73, Testing accuracy = 56.15%\n"
     ]
    }
   ],
   "source": [
    "torch.manual_seed(66666)\n",
    "\n",
    "EMBEDDING_DIM = 10\n",
    "HIDDEN_DIM = 10\n",
    "\n",
    "model = MLPTagger(EMBEDDING_DIM, HIDDEN_DIM, len(word_to_ix), CONTEXT_SIZE, len(tag_to_ix))\n",
    "\n",
    "# Negative Log-likelihood loss\n",
    "loss_function = nn.NLLLoss()\n",
    "\n",
    "# Stochastic Gradient Descent (SGD)\n",
    "optimizer = optim.SGD(model.parameters(), lr=0.01)\n",
    "\n",
    "def train(epoch):\n",
    "    model.train()\n",
    "    train_loss = torch.Tensor([0])\n",
    "    for context, tag in training_instances:\n",
    "        model.zero_grad()\n",
    "        context_in = prepare_sequence(context, word_to_ix)\n",
    "        target = prepare_sequence([tag], tag_to_ix)\n",
    "        log_probs = model(context_in)\n",
    "        loss = loss_function(log_probs, target)\n",
    "        train_loss += loss.data\n",
    "        loss.backward()\n",
    "        optimizer.step()\n",
    "    print(\"Epoch %d: loss = %.2f, \" % (epoch, train_loss[0]), end='')\n",
    "\n",
    "def test(epoch):\n",
    "    model.eval()\n",
    "    test_loss = torch.Tensor([0])\n",
    "    correct = 0\n",
    "    tot_words = len(devel_instances)\n",
    "    for context, tag in devel_instances:\n",
    "        context_in = prepare_sequence(context, word_to_ix)\n",
    "        target = prepare_sequence([tag], tag_to_ix)\n",
    "        log_probs = model(context_in)\n",
    "        pred = log_probs.data.max(dim=1)[1]\n",
    "        correct += pred.eq(target.data).sum()\n",
    "    print(\"Testing accuracy = %.2f%%\" % (100. * correct / tot_words))\n",
    "\n",
    "for epoch in xrange(30):\n",
    "    train(epoch)\n",
    "    test(epoch)"
   ]
  },
  {
   "cell_type": "code",
   "execution_count": null,
   "metadata": {
    "collapsed": true
   },
   "outputs": [],
   "source": []
  }
 ],
 "metadata": {
  "kernelspec": {
   "display_name": "Python 2",
   "language": "python",
   "name": "python2"
  },
  "language_info": {
   "codemirror_mode": {
    "name": "ipython",
    "version": 2
   },
   "file_extension": ".py",
   "mimetype": "text/x-python",
   "name": "python",
   "nbconvert_exporter": "python",
   "pygments_lexer": "ipython2",
   "version": "2.7.13"
  }
 },
 "nbformat": 4,
 "nbformat_minor": 2
}

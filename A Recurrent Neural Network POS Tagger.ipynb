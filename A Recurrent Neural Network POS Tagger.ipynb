{
 "cells": [
  {
   "cell_type": "markdown",
   "metadata": {},
   "source": [
    "# A Recurrent Neural Network POS Tagger"
   ]
  },
  {
   "cell_type": "code",
   "execution_count": 33,
   "metadata": {
    "collapsed": true
   },
   "outputs": [],
   "source": [
    "from __future__ import print_function\n",
    "import sys\n",
    "\n",
    "import torch\n",
    "import torch.nn as nn\n",
    "import torch.autograd as autograd\n",
    "import torch.nn.functional as F\n",
    "import torch.optim as optim"
   ]
  },
  {
   "cell_type": "markdown",
   "metadata": {},
   "source": [
    "## Corpus Processing"
   ]
  },
  {
   "cell_type": "code",
   "execution_count": 34,
   "metadata": {
    "collapsed": true
   },
   "outputs": [],
   "source": [
    "def read_dataset(filename='./penn.train.pos'):\n",
    "    fp = open(filename, 'r')\n",
    "    dataset = []\n",
    "    for line in fp:\n",
    "        tokens = line.strip().split()\n",
    "        dataset.append(([t.rsplit('/', 1)[0] for t in tokens], [t.rsplit('/', 1)[1] for t in tokens]))\n",
    "    return dataset\n",
    "\n",
    "training_data = read_dataset(\"train.pos\")[:200]\n",
    "devel_data = read_dataset(\"test.pos\")[:100]\n",
    "\n",
    "word_to_ix = {'UNK':0}\n",
    "tag_to_ix = {'UNK':0}\n",
    "for sent, tags in training_data:\n",
    "    for word, tag in zip(sent, tags):\n",
    "        if word not in word_to_ix:\n",
    "            word_to_ix[word] = len(word_to_ix)\n",
    "        if tag not in tag_to_ix:\n",
    "            tag_to_ix[tag] = len(tag_to_ix)\n",
    "\n",
    "def prepare_sequence(seq, to_ix):\n",
    "    idxs = map(lambda w: to_ix[w] if w in to_ix else to_ix['UNK'], seq)\n",
    "    tensor = torch.LongTensor(idxs)\n",
    "    return autograd.Variable(tensor)"
   ]
  },
  {
   "cell_type": "markdown",
   "metadata": {},
   "source": [
    "## RNN Tagger\n",
    "\n",
    "<img src=\"images/rnn.png\" style=\"width: 500px;\"/>"
   ]
  },
  {
   "cell_type": "code",
   "execution_count": 35,
   "metadata": {
    "collapsed": true
   },
   "outputs": [],
   "source": [
    "class RNNTagger(nn.Module):\n",
    "\n",
    "    def __init__(self, embedding_dim, hidden_dim, vocab_size, tagset_size):\n",
    "        super(RNNTagger, self).__init__()\n",
    "\n",
    "        self.hidden_dim = hidden_dim\n",
    "        \n",
    "        # The word embedding layer map words (IDs) to their embedding vectors\n",
    "        self.word_embeddings = nn.Embedding(vocab_size, embedding_dim)\n",
    "        \n",
    "        # The RNN takes word embeddings as inputs, and outputs hidden states\n",
    "        # with dimensionality hidden_dim.\n",
    "        self.rnn = nn.RNNCell(embedding_dim, hidden_dim)\n",
    "        \n",
    "        # The linear layer maps hidden state space to the tag space\n",
    "        self.hidden2tag = nn.Linear(hidden_dim, tagset_size)\n",
    "        self.hidden = self.init_hidden()\n",
    "\n",
    "    def init_hidden(self):\n",
    "        # Before we've done anything, we dont have any hidden state.\n",
    "        # The axes semantics are (num_layers, minibatch_size, hidden_dim)\n",
    "        return autograd.Variable(torch.zeros(1, self.hidden_dim))\n",
    "\n",
    "    def forward(self, sentence):\n",
    "        # Embedding layer: map input words to embeddings\n",
    "        # The axes semantics are (len_sentence, minibatch_size, embedding_dim)\n",
    "        embeds = self.word_embeddings(sentence).view(len(sentence), 1, -1)\n",
    "        \n",
    "        # Incrementally obtain the RNN hidden states (left to right)\n",
    "        rnn_hidden = []\n",
    "        for i in xrange(len(sentence)):\n",
    "            self.hidden = self.rnn(embeds[i], self.hidden)\n",
    "            rnn_hidden.append(self.hidden)\n",
    "        \n",
    "        # Softmax layer: map RNN hidden states to the tag space\n",
    "        tag_space = self.hidden2tag(torch.stack(rnn_hidden).view(len(sentence), -1))\n",
    "        tag_scores = F.log_softmax(tag_space)\n",
    "        return tag_scores"
   ]
  },
  {
   "cell_type": "markdown",
   "metadata": {},
   "source": [
    "## Training and Testing"
   ]
  },
  {
   "cell_type": "code",
   "execution_count": 37,
   "metadata": {
    "scrolled": false
   },
   "outputs": [
    {
     "name": "stdout",
     "output_type": "stream",
     "text": [
      "Epoch 0: loss = 1369.36, Testing accuracy = 35.24%\n",
      "Epoch 1: loss = 1138.58, Testing accuracy = 40.18%\n",
      "Epoch 2: loss = 1048.72, Testing accuracy = 41.98%\n",
      "Epoch 3: loss = 987.34, Testing accuracy = 44.22%\n",
      "Epoch 4: loss = 942.78, Testing accuracy = 45.45%\n",
      "Epoch 5: loss = 909.83, Testing accuracy = 46.10%\n",
      "Epoch 6: loss = 884.15, Testing accuracy = 46.35%\n",
      "Epoch 7: loss = 863.34, Testing accuracy = 47.12%\n",
      "Epoch 8: loss = 845.14, Testing accuracy = 47.45%\n",
      "Epoch 9: loss = 828.16, Testing accuracy = 48.92%\n",
      "Epoch 10: loss = 812.36, Testing accuracy = 49.33%\n",
      "Epoch 11: loss = 798.16, Testing accuracy = 49.78%\n",
      "Epoch 12: loss = 785.26, Testing accuracy = 50.10%\n",
      "Epoch 13: loss = 773.38, Testing accuracy = 50.71%\n",
      "Epoch 14: loss = 762.24, Testing accuracy = 51.29%\n",
      "Epoch 15: loss = 751.65, Testing accuracy = 51.86%\n",
      "Epoch 16: loss = 741.55, Testing accuracy = 52.06%\n",
      "Epoch 17: loss = 731.94, Testing accuracy = 52.47%\n",
      "Epoch 18: loss = 722.80, Testing accuracy = 52.63%\n",
      "Epoch 19: loss = 714.14, Testing accuracy = 52.96%\n",
      "Epoch 20: loss = 705.97, Testing accuracy = 53.33%\n",
      "Epoch 21: loss = 698.24, Testing accuracy = 53.65%\n",
      "Epoch 22: loss = 690.87, Testing accuracy = 53.65%\n",
      "Epoch 23: loss = 683.78, Testing accuracy = 53.78%\n",
      "Epoch 24: loss = 676.89, Testing accuracy = 53.94%\n",
      "Epoch 25: loss = 670.17, Testing accuracy = 54.23%\n",
      "Epoch 26: loss = 663.60, Testing accuracy = 54.59%\n",
      "Epoch 27: loss = 657.17, Testing accuracy = 55.21%\n",
      "Epoch 28: loss = 650.88, Testing accuracy = 55.25%\n",
      "Epoch 29: loss = 644.71, Testing accuracy = 55.41%\n"
     ]
    }
   ],
   "source": [
    "torch.manual_seed(66666)\n",
    "\n",
    "EMBEDDING_DIM = 10\n",
    "HIDDEN_DIM = 10\n",
    "\n",
    "model = RNNTagger(EMBEDDING_DIM, HIDDEN_DIM, len(word_to_ix), len(tag_to_ix))\n",
    "\n",
    "# Negative Log-likelihood loss\n",
    "loss_function = nn.NLLLoss()\n",
    "optimizer = optim.SGD(model.parameters(), lr=0.1)\n",
    "\n",
    "def train(epoch):\n",
    "    model.train()\n",
    "    train_loss = torch.Tensor([0])\n",
    "    for sent, tags in training_data:\n",
    "        # Step 1. Remember that Pytorch accumulates gradients.  We need to clear them out\n",
    "        # before each instance\n",
    "        model.zero_grad()\n",
    "        \n",
    "        # Also, we need to clear out the hidden state of the LSTM, detaching it from its\n",
    "        # history on the last instance.\n",
    "        model.hidden = model.init_hidden()\n",
    "        \n",
    "        # Step 2. Get our inputs ready for the network, that is, turn them into Variables\n",
    "        # of word indices.\n",
    "        sent_in = prepare_sequence(sent, word_to_ix)\n",
    "        targets = prepare_sequence(tags, tag_to_ix)\n",
    "        \n",
    "        # Step 3. Run our forward pass.\n",
    "        tag_scores = model(sent_in)\n",
    "        \n",
    "        # Step 4. Compute the loss, gradients, and update the parameters by calling\n",
    "        # optimizer.step()\n",
    "        loss = loss_function(tag_scores, targets)\n",
    "        train_loss += loss.data\n",
    "        loss.backward()\n",
    "        optimizer.step()\n",
    "        \n",
    "    print(\"Epoch %d: loss = %.2f, \" % (epoch, train_loss[0]), end='')\n",
    "\n",
    "def test(epoch):\n",
    "    model.eval()\n",
    "    test_loss = torch.Tensor([0])\n",
    "    correct = 0\n",
    "    tot_words = 0\n",
    "    for sent, tags in devel_data:\n",
    "        sent_in = prepare_sequence(sent, word_to_ix)\n",
    "        targets = prepare_sequence(tags, tag_to_ix)\n",
    "        tag_scores = model(sent_in)\n",
    "        pred = tag_scores.data.max(dim=1)[1]\n",
    "        correct += pred.eq(targets.data).sum()\n",
    "        tot_words += len(sent)\n",
    "        \n",
    "    print(\"Testing accuracy = %.2f%%\" % (100. * correct / tot_words))\n",
    "\n",
    "for epoch in xrange(30):\n",
    "    train(epoch)\n",
    "    test(epoch)"
   ]
  },
  {
   "cell_type": "code",
   "execution_count": null,
   "metadata": {
    "collapsed": true
   },
   "outputs": [],
   "source": []
  }
 ],
 "metadata": {
  "kernelspec": {
   "display_name": "Python 2",
   "language": "python",
   "name": "python2"
  },
  "language_info": {
   "codemirror_mode": {
    "name": "ipython",
    "version": 2
   },
   "file_extension": ".py",
   "mimetype": "text/x-python",
   "name": "python",
   "nbconvert_exporter": "python",
   "pygments_lexer": "ipython2",
   "version": "2.7.13"
  }
 },
 "nbformat": 4,
 "nbformat_minor": 2
}
